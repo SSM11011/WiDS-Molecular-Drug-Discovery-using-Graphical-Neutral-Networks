{
  "cells": [
    {
      "cell_type": "code",
      "execution_count": 6,
      "metadata": {
        "id": "aZQnQCBj7kff"
      },
      "outputs": [],
      "source": [
        "import time\n",
        "import numpy as np\n",
        "import matplotlib.pyplot as plt\n",
        "from urllib.request import urlretrieve"
      ]
    },
    {
      "cell_type": "code",
      "execution_count": 7,
      "metadata": {
        "colab": {
          "base_uri": "https://localhost:8080/"
        },
        "id": "_u82U5jj7kff",
        "outputId": "fb0d14d0-62a6-4d82-e258-0d2c99430147"
      },
      "outputs": [
        {
          "output_type": "stream",
          "name": "stdout",
          "text": [
            "[[-2.12729941e+00  1.75357153e+00]\n",
            " [-3.40030291e-01 -6.70757901e-03]\n",
            " [-3.21990680e+00 -2.22002740e+00]\n",
            " [-3.70958194e+00  1.33088073e+00]\n",
            " [-9.94424941e-01  5.40362889e-01]\n",
            " [-3.89707753e+00  1.84954926e+00]\n",
            " [ 1.62213204e-01 -1.93830445e+00]\n",
            " [-3.09087516e+00 -2.08297745e+00]\n",
            " [-2.47878879e+00 -3.76217842e-01]\n",
            " [-1.84027491e+00 -1.54385430e+00]\n",
            " [-9.40735526e-01 -2.30253070e+00]\n",
            " [-2.53927676e+00 -1.16819078e+00]\n",
            " [-1.71965008e+00  9.25879807e-01]\n",
            " [-3.00163109e+00 -4.28827808e-01]\n",
            " [-1.03792716e+00 -2.76774794e+00]\n",
            " [-9.62275740e-01 -2.14737938e+00]\n",
            " [-3.67474204e+00  1.74442769e+00]\n",
            " [ 8.28160165e-01  1.04198674e+00]\n",
            " [-2.47693115e+00 -2.51163943e+00]\n",
            " [-5.78834867e-01 -7.99237531e-01]\n",
            " [-3.38980883e+00 -5.24115449e-01]\n",
            " [-3.82805739e+00  1.54660201e+00]\n",
            " [-2.70610009e+00  3.12611422e-01]\n",
            " [-2.44144462e+00 -3.99659894e-01]\n",
            " [-1.26644860e+00 -2.07572772e+00]\n",
            " [ 8.47923139e-01  8.75664117e-01]\n",
            " [ 6.97494708e-01  1.47413675e+00]\n",
            " [-1.01050011e+00  1.60937118e+00]\n",
            " [-3.55753749e+00 -2.02008569e+00]\n",
            " [-3.77386356e+00 -1.37334835e+00]\n",
            " [ 3.94338645e+00  4.35674516e+00]\n",
            " [ 6.14368755e+00  4.78376663e+00]\n",
            " [ 3.40467255e+00  5.71348042e+00]\n",
            " [ 2.70462112e+00  7.01098490e+00]\n",
            " [ 2.37275322e+00  7.93443468e+00]\n",
            " [ 5.86122385e+00  3.99357841e+00]\n",
            " [ 2.02761059e+00  7.07730714e+00]\n",
            " [ 5.53428672e+00  6.64503584e+00]\n",
            " [ 5.85635173e+00  3.37022326e+00]\n",
            " [ 3.79232864e+00  3.57934530e+00]\n",
            " [ 6.31551713e+00  6.11649063e+00]\n",
            " [ 3.65449012e+00  3.31779175e+00]\n",
            " [ 3.55491161e+00  4.62591661e+00]\n",
            " [ 5.64803089e+00  6.18778736e+00]\n",
            " [ 6.43606371e+00  5.36107463e+00]\n",
            " [ 2.59797123e+00  6.56622394e+00]\n",
            " [ 5.80392524e+00  5.80638599e+00]\n",
            " [ 5.85483590e+00  5.46897798e+00]\n",
            " [ 4.61366415e+00  5.13770509e+00]\n",
            " [ 2.12709563e+00  3.53945713e+00]\n",
            " [ 2.15714593e+00  6.18205206e+00]\n",
            " [ 3.57177991e+00  5.54285346e+00]\n",
            " [ 6.53783237e+00  4.24646115e+00]\n",
            " [ 4.05191462e+00  6.77775569e+00]\n",
            " [ 3.14399083e+00  3.38489955e+00]\n",
            " [ 3.44875726e+00  3.80610644e+00]\n",
            " [ 6.64848826e+00  7.04060190e+00]\n",
            " [ 5.16701878e+00  7.35730295e+00]\n",
            " [ 6.01836038e+00  3.93285029e+00]\n",
            " [ 6.46279499e+00  5.69671121e+00]]\n"
          ]
        }
      ],
      "source": [
        "### TODO 1\n",
        "### Load data from data_path\n",
        "### Check the input file spice_locations.txt to understand the Data Format\n",
        "### Return : np array of size Nx2\n",
        "def load_data(data_path):\n",
        "    urlretrieve(data_path, 'data.txt')\n",
        "    with open('data.txt', 'r') as file:\n",
        "        data = file.readlines()\n",
        "\n",
        "    parsed_data = []\n",
        "    for line in data:\n",
        "        line = line.strip()\n",
        "        if line:\n",
        "            x, y = map(float, line.split(','))\n",
        "            parsed_data.append((x, y))\n",
        "\n",
        "    return np.array(parsed_data)\n",
        "\n",
        "spice_locations = \"https://raw.githubusercontent.com/harshul997/Molecular-Drug-Discovery-using-Graphical-Neutral-Networks/refs/heads/main/Week1/Assignment2/data.txt\"\n",
        "data = load_data(spice_locations)\n",
        "print(data)"
      ]
    },
    {
      "cell_type": "code",
      "execution_count": 8,
      "metadata": {
        "id": "qaZ5_W0z7kff"
      },
      "outputs": [],
      "source": [
        "### TODO 2.1\n",
        "### If init_centers is None, initialize the centers by selecting K data points at random without replacement\n",
        "### Else, use the centers provided in init_centers\n",
        "### Return : np array of size Kx2\n",
        "def initialise_centers(data, K, init_centers=None):\n",
        "    if init_centers is None:\n",
        "        indices = np.random.choice(data.shape[0], size=K, replace=False)\n",
        "        return data[indices]\n",
        "    else:\n",
        "        return np.array(init_centers)"
      ]
    },
    {
      "cell_type": "code",
      "execution_count": 9,
      "metadata": {
        "id": "txLDp2Gm7kff"
      },
      "outputs": [],
      "source": [
        "### TODO 2.2\n",
        "### Initialize the labels to all ones to size (N,) where N is the number of data points\n",
        "### Return : np array of size N\n",
        "def initialise_labels(data):\n",
        "    N = data.shape[0]\n",
        "    return np.ones(N, dtype=int)"
      ]
    },
    {
      "cell_type": "code",
      "execution_count": 10,
      "metadata": {
        "id": "9CeNTcDA7kff"
      },
      "outputs": [],
      "source": [
        "### TODO 3.1 : E step\n",
        "### For Each data point, find the distance to each center\n",
        "### Return : np array of size NxK\n",
        "def calculate_distances(data, centers):\n",
        "    distances = np.linalg.norm(data[:, np.newaxis, :] - centers[np.newaxis, :, :], axis=2)\n",
        "    return distances"
      ]
    },
    {
      "cell_type": "code",
      "execution_count": 11,
      "metadata": {
        "id": "768HdNY27kff"
      },
      "outputs": [],
      "source": [
        "### TODO 3.2 : E step\n",
        "### For Each data point, assign the label of the nearest center\n",
        "### Return : np array of size N\n",
        "def update_labels(distances):\n",
        "    labels = np.argmin(distances, axis=1)\n",
        "    return labels"
      ]
    },
    {
      "cell_type": "code",
      "execution_count": 12,
      "metadata": {
        "id": "COW8pmRm7kff"
      },
      "outputs": [],
      "source": [
        "### TODO 4 : M step\n",
        "### Update the centers to the mean of the data points assigned to it\n",
        "### Return : np array of size Kx2\n",
        "def update_centers(data, labels, K):\n",
        "    centers = np.zeros((K, data.shape[1]))\n",
        "\n",
        "    for k in range(K):\n",
        "        cluster_points = data[labels == k]\n",
        "        centers[k] = cluster_points.mean(axis=0) if cluster_points.size > 0 else centers[k]\n",
        "\n",
        "    return centers"
      ]
    },
    {
      "cell_type": "code",
      "execution_count": 13,
      "metadata": {
        "id": "vWU2nY0A7kff"
      },
      "outputs": [],
      "source": [
        "### TODO 6 : Check convergence\n",
        "### Check if the labels have changed from the previous iteration\n",
        "### Return : True / False\n",
        "def check_termination(labels1, labels2):\n",
        "    return np.array_equal(labels1, labels2)"
      ]
    },
    {
      "cell_type": "code",
      "execution_count": 14,
      "metadata": {
        "id": "a6asN_DB7kff"
      },
      "outputs": [],
      "source": [
        "### DON'T CHANGE ANYTHING IN THE FOLLOWING FUNCTION\n",
        "def kmeans(data_path:str, K:int, init_centers):\n",
        "    '''\n",
        "    Input :\n",
        "        data (type str): path to the file containing the data\n",
        "        K (type int): number of clusters\n",
        "        init_centers (type numpy.ndarray): initial centers. shape = (K, 2) or None\n",
        "    Output :\n",
        "        centers (type numpy.ndarray): final centers. shape = (K, 2)\n",
        "        labels (type numpy.ndarray): label of each data point. shape = (N,)\n",
        "        time (type float): time taken by the algorithm to converge in seconds\n",
        "    N is the number of data points each of shape (2,)\n",
        "    '''\n",
        "    data = load_data(data_path)\n",
        "    centers = initialise_centers(data, K, init_centers)\n",
        "    labels = initialise_labels(data)\n",
        "\n",
        "    start_time = time.time() # Time stamp\n",
        "\n",
        "    while True:\n",
        "        distances = calculate_distances(data, centers)\n",
        "        labels_new = update_labels(distances)\n",
        "        centers = update_centers(data, labels_new, K)\n",
        "        if check_termination(labels, labels_new): break\n",
        "        else: labels = labels_new\n",
        "\n",
        "    end_time = time.time() # Time stamp after the algorithm ends\n",
        "    return centers, labels, end_time - start_time"
      ]
    },
    {
      "cell_type": "code",
      "execution_count": 15,
      "metadata": {
        "id": "Z9O31F267kfg"
      },
      "outputs": [],
      "source": [
        "### TODO 7\n",
        "def visualise(data_path, labels, centers):\n",
        "    data = load_data(data_path)\n",
        "\n",
        "    # Scatter plot of the data points\n",
        "    plt.scatter(data[:, 0], data[:, 1], c=labels, s=50, cmap='viridis')\n",
        "    plt.scatter(centers[:, 0], centers[:, 1], c='black', s=200, alpha=0.5)\n",
        "\n",
        "    plt.title('K-means clustering')\n",
        "    plt.xlabel('Longitude')\n",
        "    plt.ylabel('Latitude')\n",
        "    plt.legend()\n",
        "\n",
        "    plt.savefig('kmeans.png')\n",
        "\n",
        "    ## DO NOT CHANGE THE FOLLOWING LINE\n",
        "    return plt"
      ]
    },
    {
      "cell_type": "code",
      "execution_count": 16,
      "metadata": {
        "id": "GO5cUhJ37kfg",
        "colab": {
          "base_uri": "https://localhost:8080/",
          "height": 544
        },
        "outputId": "add66fd3-20d2-4679-efd6-256eacc93939"
      },
      "outputs": [
        {
          "output_type": "stream",
          "name": "stderr",
          "text": [
            "WARNING:matplotlib.legend:No artists with labels found to put in legend.  Note that artists whose label start with an underscore are ignored when legend() is called with no argument.\n"
          ]
        },
        {
          "output_type": "stream",
          "name": "stdout",
          "text": [
            "Time taken for the algorithm to converge: 0.000545501708984375\n"
          ]
        },
        {
          "output_type": "execute_result",
          "data": {
            "text/plain": [
              "<module 'matplotlib.pyplot' from '/usr/local/lib/python3.10/dist-packages/matplotlib/pyplot.py'>"
            ]
          },
          "metadata": {},
          "execution_count": 16
        },
        {
          "output_type": "display_data",
          "data": {
            "text/plain": [
              "<Figure size 640x480 with 1 Axes>"
            ],
            "image/png": "[encoded data removed]"
          },
          "metadata": {}
        }
      ],
      "source": [
        "### After you have completed the above functions, run the following code to generate the plot\n",
        "data_path = 'https://raw.githubusercontent.com/mnp-club/CPP_Assignment/refs/heads/main/spice_locations.txt'\n",
        "K, init_centers = 2, None\n",
        "centers, labels, time_taken = kmeans(data_path, K, init_centers)\n",
        "print('Time taken for the algorithm to converge:', time_taken)\n",
        "visualise(data_path, labels, centers)"
      ]
    }
  ],
  "metadata": {
    "kernelspec": {
      "display_name": "Python 3",
      "language": "python",
      "name": "python3"
    },
    "language_info": {
      "codemirror_mode": {
        "name": "ipython",
        "version": 3
      },
      "file_extension": ".py",
      "mimetype": "text/x-python",
      "name": "python",
      "nbconvert_exporter": "python",
      "pygments_lexer": "ipython3",
      "version": "3.10.12"
    },
    "colab": {
      "provenance": []
    }
  },
  "nbformat": 4,
  "nbformat_minor": 0
}